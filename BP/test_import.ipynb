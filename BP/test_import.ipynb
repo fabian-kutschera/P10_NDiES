{
 "cells": [
  {
   "cell_type": "code",
   "execution_count": 3,
   "id": "95ea773c",
   "metadata": {},
   "outputs": [],
   "source": [
    "from pydsm.relab import shiftdim\n",
    "import numpy as np\n",
    "import matplotlib.pyplot as plt\n",
    "from obspy.clients.fdsn import Client \n",
    "from obspy import UTCDateTime\n",
    "from obspy.core.stream import Stream"
   ]
  },
  {
   "cell_type": "code",
   "execution_count": 4,
   "id": "bd636c11",
   "metadata": {},
   "outputs": [],
   "source": [
    "shiftdim?"
   ]
  },
  {
   "cell_type": "markdown",
   "id": "740f0993",
   "metadata": {},
   "source": [
    "#### How to install everything?\n",
    "\n",
    "\n",
    "1. conda create -n python373 python=3.7.3\n",
    "2. conda activate python373\n",
    "3. pip install h5py\n",
    "4. conda install obspy\n",
    "5. git clone https://github.com/sergiocallegari/PyDSM\n",
    "6. cd PyDSM\n",
    "7. git submodule init\n",
    "8. git submodule update\n",
    "9. python setup.py install (this still might return an error! In that case you probably need to install cython via \"conda install cython\")\n",
    "10. pip install geopy\n",
    "\n",
    "Note: due to some strange reason execute import cell **twice** in order to import everything successfully."
   ]
  }
 ],
 "metadata": {
  "kernelspec": {
   "display_name": "Python 3 (ipykernel)",
   "language": "python",
   "name": "python3"
  },
  "language_info": {
   "codemirror_mode": {
    "name": "ipython",
    "version": 3
   },
   "file_extension": ".py",
   "mimetype": "text/x-python",
   "name": "python",
   "nbconvert_exporter": "python",
   "pygments_lexer": "ipython3",
   "version": "3.7.3"
  }
 },
 "nbformat": 4,
 "nbformat_minor": 5
}
