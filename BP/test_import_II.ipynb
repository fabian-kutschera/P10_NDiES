{
 "cells": [
  {
   "cell_type": "code",
   "execution_count": 1,
   "id": "12ee842f",
   "metadata": {},
   "outputs": [],
   "source": [
    "import numpy as np\n",
    "from obspy import read, UTCDateTime, read_inventory, Inventory\n",
    "import os\n",
    "from obspy.clients.fdsn import Client, RoutingClient\n",
    "from obspy.taup import TauPyModel\n",
    "from obspy.geodetics import locations2degrees\n",
    "import pickle\n",
    "import timeit \n",
    "import matplotlib.pyplot as plt\n",
    "import mpld3\n",
    "from mpl_toolkits.basemap import Basemap\n",
    "from collections import deque"
   ]
  },
  {
   "cell_type": "code",
   "execution_count": 2,
   "id": "0869543a",
   "metadata": {},
   "outputs": [],
   "source": [
    "from obspy.signal.cross_correlation import correlate, xcorr_max"
   ]
  }
 ],
 "metadata": {
  "kernelspec": {
   "display_name": "Python 3 (ipykernel)",
   "language": "python",
   "name": "python3"
  },
  "language_info": {
   "codemirror_mode": {
    "name": "ipython",
    "version": 3
   },
   "file_extension": ".py",
   "mimetype": "text/x-python",
   "name": "python",
   "nbconvert_exporter": "python",
   "pygments_lexer": "ipython3",
   "version": "3.7.3"
  }
 },
 "nbformat": 4,
 "nbformat_minor": 5
}
