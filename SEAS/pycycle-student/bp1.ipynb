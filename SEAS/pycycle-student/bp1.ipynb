{
 "cells": [
  {
   "cell_type": "code",
   "execution_count": null,
   "metadata": {},
   "outputs": [],
   "source": [
    "import numpy as np\n",
    "import pycycle as cy\n",
    "import matplotlib.pyplot as plt\n",
    "import scipy\n",
    "%load_ext autoreload\n",
    "%autoreload 2\n",
    "%matplotlib notebook"
   ]
  },
  {
   "cell_type": "markdown",
   "metadata": {},
   "source": [
    "Mesh creation\n",
    "==========="
   ]
  },
  {
   "cell_type": "code",
   "execution_count": null,
   "metadata": {},
   "outputs": [],
   "source": [
    "b1 = (0, 40.0)\n",
    "b2 = (0, 50.0)\n",
    "h1 = 0.2\n",
    "h2 = 1.0\n",
    "star_centre = (1, 1)\n",
    "normal1 = cy.mesh.line_normal((0, 0), b1, star_centre)\n",
    "normal2 = cy.mesh.line_normal(b1, b2, star_centre)\n",
    "\n",
    "# Create a mesh from origin to b1 with resolution h1\n",
    "# True means on-fault\n",
    "mesh = cy.mesh.tessellate_line((0, 0), b1, h1, normal1, True)\n",
    "# Add a mesh from b1 to b2 with resolution h2\n",
    "mesh = mesh + cy.mesh.tessellate_line(b1, b2, h2, normal2)\n",
    "# Extend to infinity\n",
    "mesh.append(cy.mesh.InfiniteLineElement(b2, normal2))"
   ]
  },
  {
   "cell_type": "markdown",
   "metadata": {},
   "source": [
    "Parameters\n",
    "=========="
   ]
  },
  {
   "cell_type": "code",
   "execution_count": null,
   "metadata": {},
   "outputs": [],
   "source": [
    "rho = 2.670   # density [g/m^3]\n",
    "v_s = 3.464   # shear wave velocity [km/s]\n",
    "Vp = 1e-9     # plate rate [m/s]\n",
    "V0 = 1e-6     # reference slip rate [m/s]\n",
    "b = 0.015     # b parameter\n",
    "L = 0.008     # critical slip distance [m]\n",
    "f0 = 0.6      # reference friction coefficient\n",
    "sn = 50       # normal stress [MPa]\n",
    "Vinit = 1e-9  # initial slip rate [m/s]\n",
    "cp = cy.seas.ConstantParams(rho, v_s, Vp, V0, b, L, f0, sn, Vinit)"
   ]
  },
  {
   "cell_type": "code",
   "execution_count": null,
   "metadata": {},
   "outputs": [],
   "source": [
    "a0 = 0.010\n",
    "amax = 0.025\n",
    "# a parameter depends on x\n",
    "def a(x):\n",
    "    z = x[1]\n",
    "    H = 15.0\n",
    "    h = 3.0\n",
    "    if z < H:\n",
    "        return a0\n",
    "    elif z < H + h:\n",
    "        return a0 + (amax - a0) * (z - H) / h\n",
    "    else:\n",
    "        return amax\n",
    "\n",
    "# pre-stress may depend on position, constant here\n",
    "def tau_pre(x):\n",
    "    e = np.exp((f0 + b * np.log(V0 / Vinit)) / amax)\n",
    "    return -(sn * amax * np.arcsinh((Vinit / (2.0 * V0)) * e) + cp.eta * Vinit)\n",
    "\n",
    "vp = cy.seas.VariableParams(mesh, a, tau_pre)"
   ]
  },
  {
   "cell_type": "markdown",
   "metadata": {},
   "source": [
    "Compile\n",
    "=========="
   ]
  },
  {
   "cell_type": "code",
   "execution_count": null,
   "metadata": {},
   "outputs": [],
   "source": [
    "# initialize solver context\n",
    "ctx = cy.seas.Context(mesh, cy.green.G_fs, cy.green.dG_fs_dn, vp, cp)"
   ]
  },
  {
   "cell_type": "markdown",
   "metadata": {},
   "source": [
    "Plot setup\n",
    "========"
   ]
  },
  {
   "cell_type": "code",
   "execution_count": null,
   "metadata": {},
   "outputs": [],
   "source": [
    "u_fig = plt.figure()\n",
    "\n",
    "# fig.canvas.set_window_title('Canvas active title')\n",
    "u_fig.suptitle('Cumulative slip (m)', fontsize=20)\n",
    "\n",
    "# Create plots inside the figures\n",
    "u_ax = u_fig.add_subplot(111)"
   ]
  },
  {
   "cell_type": "code",
   "execution_count": null,
   "metadata": {},
   "outputs": [],
   "source": [
    "v_fig = plt.figure()\n",
    "\n",
    "# fig.canvas.set_window_title('Canvas active title')\n",
    "v_fig.suptitle('Log10(v) (m/s) vs. time (s)', fontsize=20)\n",
    "\n",
    "# Create plots inside the figures\n",
    "v_ax = v_fig.add_subplot(111)"
   ]
  },
  {
   "cell_type": "code",
   "execution_count": null,
   "metadata": {},
   "outputs": [],
   "source": [
    "thresholds = [\n",
    "    {'color': '#000000', 'vthresh': 0,     'dt': 10*365*24*60*60, 'interval': '10 years' },\n",
    "    {'color': '#ff0000', 'vthresh': 1e-06, 'dt': 24*60*60,        'interval': '1  day'   },\n",
    "    {'color': '#ffcc00', 'vthresh': 1e-02, 'dt': 1,               'interval': '1  second'}\n",
    "]"
   ]
  },
  {
   "cell_type": "markdown",
   "metadata": {},
   "source": [
    "Initial conditions\n",
    "============="
   ]
  },
  {
   "cell_type": "code",
   "execution_count": null,
   "metadata": {},
   "outputs": [],
   "source": [
    "y0 = cy.seas.y0(ctx) # initial condition"
   ]
  },
  {
   "cell_type": "code",
   "execution_count": null,
   "metadata": {},
   "outputs": [],
   "source": [
    "t0 = 0\n",
    "tend = 8e9"
   ]
  },
  {
   "cell_type": "markdown",
   "metadata": {},
   "source": [
    "Solve\n",
    "====="
   ]
  },
  {
   "cell_type": "code",
   "execution_count": null,
   "metadata": {},
   "outputs": [],
   "source": [
    "monitor = cy.monitor.Monitor(thresholds, u_ax, u_fig, v_ax, v_fig)\n",
    "\n",
    "def F(t, y, ctx):\n",
    "    # a new step begins, take y to represent the result of last step.\n",
    "    fresh = t == F.t_\n",
    "    F.t_  = t\n",
    "    return cy.seas.F(t,y,ctx,monitor) if fresh else cy.seas.F(t,y,ctx)\n",
    "F.t_ = t0\n",
    "\n",
    "result = scipy.integrate.solve_ivp( F, (t0, tend), y0, method='RK45', rtol=1e-7, atol=1e-7, args=(ctx,), first_step=100) #, max_step=60*60*24*365"
   ]
  },
  {
   "cell_type": "markdown",
   "metadata": {},
   "source": [
    "Postprocessing\n",
    "========="
   ]
  },
  {
   "cell_type": "code",
   "execution_count": null,
   "metadata": {},
   "outputs": [],
   "source": []
  }
 ],
 "metadata": {
  "kernelspec": {
   "display_name": "Python 3",
   "language": "python",
   "name": "python3"
  },
  "language_info": {
   "codemirror_mode": {
    "name": "ipython",
    "version": 3
   },
   "file_extension": ".py",
   "mimetype": "text/x-python",
   "name": "python",
   "nbconvert_exporter": "python",
   "pygments_lexer": "ipython3",
   "version": "3.7.3"
  }
 },
 "nbformat": 4,
 "nbformat_minor": 4
}
