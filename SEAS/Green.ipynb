{
 "cells": [
  {
   "cell_type": "markdown",
   "id": "6b99ac4a",
   "metadata": {},
   "source": [
    "# Green's function for half-space\n",
    "\n",
    "Find a solution to the problem\n",
    "\n",
    "$$\n",
    "    \\begin{aligned}\n",
    "        \\nabla_{\\xi}^2 G(x, \\xi) = - \\delta(x - \\xi), & \\quad \\text{ if } \\xi_2 < 0, \\\\\n",
    "        \\frac{\\partial G(x, \\xi)}{\\partial n} = 0, & \\quad \\text{ if }  \\xi_2 = 0.\n",
    "    \\end{aligned}\n",
    "$$\n",
    "\n",
    "You may use that the fundamental solution to\n",
    "$$\n",
    "    \\nabla_{\\xi}^2 E(x, \\xi) = - \\delta(x - \\xi), \\\\\n",
    "$$\n",
    "is given by\n",
    "$$\n",
    "    E(x, \\xi) = -\\frac{1}{2\\pi} \\ln(|x-\\xi|).\n",
    "$$\n",
    "\n",
    "Hint: Can you somehow \"reflect\" E at the free surface?"
   ]
  },
  {
   "cell_type": "code",
   "execution_count": 2,
   "id": "8e577649",
   "metadata": {},
   "outputs": [],
   "source": [
    "from sympy import *\n",
    "# ALTERNATIVE - sympy basics\n",
    "# import sympy as sp\n",
    "# sp.init_session() \n",
    "\n",
    "# show most recent computation via sp.N(_) or sp.N(sp.sqrt(3), n=4)\n",
    "# or via sp.sqrt(3).evalf(4)\n",
    "\n",
    "# Expresion: expr = sp.pi + sp.Rational(3,4)\n",
    "# Substitution in case of variables:\n",
    "# expr.subs(b, 3) \n",
    "# expr.subs([(b,3), (h,4)])\n",
    "# Greatest common divisor\n",
    "# sp.gcd(18*x**4, 81*x**2)\n",
    "# Factor\n",
    "# sp.factor(18*x+81)\n",
    "# expr.factor()\n",
    "# Expand\n",
    "# sp.expand(9*x**2 * (2*x**2 - 9))\n",
    "# expr = (2*x - 9) * (x + 30)\n",
    "# sp.expand(expr) or expr.expand()\n",
    "# Simplify\n",
    "# expr = (x*h**2-h**2/3*x-98*x**3+h/x**3)**(h-x-1)\n",
    "# sp.simplify(expr) or expr.simplify()\n",
    "\n",
    "# Solve equations\n",
    "# eqn = sp.Eq(x+9, 8)\n",
    "# sp.solve(eqn) or sp.solveset(eqn); solveset recommended\n",
    "# sp.solveset(x+9) # assumes x+9=0\n",
    "# Check type\n",
    "# type(sp.solve(eqn)) or type(sp.solveset(eqn))\n",
    "# Input\n",
    "# eqn = sp.sympify(input(\"Type in your equation using x as the variable and Eq() formatting:\"))\n",
    "# sp.solveset(eqn)\n",
    "\n",
    "# Matrix\n",
    "# A = sp.Matrix([[1,2],[3,5]])\n",
    "# type(A)\n",
    "# Extract row: A.row(0) --> first row\n",
    "# Extract column: A.col(1) --> second column\n",
    "# Vector\n",
    "# sp.Matrix([1,2,3])\n",
    "# Transpose: sp.Matrix([1,2,3]).T\n",
    "\n",
    "# Plot 2D\n",
    "# sp.plot(x**2+2, title=\"f(x)=...\")\n",
    "# sp.plot((x**2+2) , (x-1), title=\"2 functions\")"
   ]
  },
  {
   "cell_type": "code",
   "execution_count": 3,
   "id": "a0f50b6e",
   "metadata": {},
   "outputs": [
    {
     "data": {
      "text/latex": [
       "$\\displaystyle - \\frac{\\log{\\left(\\sqrt{\\left(x_{1} - \\xi_{1}\\right)^{2} + \\left(x_{2} - \\xi_{2}\\right)^{2}} \\right)}}{2 \\pi}$"
      ],
      "text/plain": [
       "-log(sqrt((x_1 - xi_1)**2 + (x_2 - xi_2)**2))/(2*pi)"
      ]
     },
     "execution_count": 3,
     "metadata": {},
     "output_type": "execute_result"
    }
   ],
   "source": [
    "# Symbols:\n",
    "x1, x2, xi1, xi2, n1, n2 = symbols('x_1 x_2 xi_1 xi_2 n_1 n_2')\n",
    "# or h = Symbol('h')\n",
    "# or from sympy.abc import xi [only works for greek symbols]\n",
    "\n",
    "#Expression:\n",
    "E = -1/(2*pi) * log(sqrt((x1-xi1)**2 + (x2-xi2)**2))\n",
    "E"
   ]
  },
  {
   "cell_type": "code",
   "execution_count": 9,
   "id": "0bae00a5",
   "metadata": {},
   "outputs": [
    {
     "data": {
      "text/latex": [
       "$\\displaystyle \\frac{n_{1} \\left(x_{1} - \\xi_{1}\\right) + n_{2} \\left(x_{2} - \\xi_{2}\\right)}{2 \\pi \\left(\\left(x_{1} - \\xi_{1}\\right)^{2} + \\left(x_{2} - \\xi_{2}\\right)^{2}\\right)}$"
      ],
      "text/plain": [
       "(n_1*(x_1 - xi_1) + n_2*(x_2 - xi_2))/(2*pi*((x_1 - xi_1)**2 + (x_2 - xi_2)**2))"
      ]
     },
     "execution_count": 9,
     "metadata": {},
     "output_type": "execute_result"
    }
   ],
   "source": [
    "dEdn = (E.diff(xi1)*n1 + E.diff(xi2)*n2).simplify()\n",
    "dEdn"
   ]
  },
  {
   "cell_type": "code",
   "execution_count": null,
   "id": "604ad23e",
   "metadata": {},
   "outputs": [],
   "source": [
    "dEdEdndn = \n",
    "dEdEdndn"
   ]
  }
 ],
 "metadata": {
  "kernelspec": {
   "display_name": "Python 3 (ipykernel)",
   "language": "python",
   "name": "python3"
  },
  "language_info": {
   "codemirror_mode": {
    "name": "ipython",
    "version": 3
   },
   "file_extension": ".py",
   "mimetype": "text/x-python",
   "name": "python",
   "nbconvert_exporter": "python",
   "pygments_lexer": "ipython3",
   "version": "3.9.7"
  }
 },
 "nbformat": 4,
 "nbformat_minor": 5
}
