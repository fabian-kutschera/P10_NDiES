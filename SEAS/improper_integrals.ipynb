{
 "cells": [
  {
   "cell_type": "markdown",
   "id": "3dd92014",
   "metadata": {},
   "source": [
    "# Improper boundary integrals\n",
    "\n",
    "Verification and solution of improper integrals from the class using SymPy."
   ]
  },
  {
   "cell_type": "code",
   "execution_count": 32,
   "id": "eccae08f",
   "metadata": {},
   "outputs": [],
   "source": [
    "import sympy as sp"
   ]
  },
  {
   "cell_type": "code",
   "execution_count": 33,
   "id": "25c9437e",
   "metadata": {},
   "outputs": [],
   "source": [
    "x, a, Chi = sp.symbols(\"x a Chi\")"
   ]
  },
  {
   "cell_type": "markdown",
   "id": "40fd7353",
   "metadata": {},
   "source": [
    "#### 1st expression: slide 32 "
   ]
  },
  {
   "cell_type": "code",
   "execution_count": 36,
   "id": "33ca6628",
   "metadata": {},
   "outputs": [
    {
     "data": {
      "text/latex": [
       "$\\displaystyle \\frac{\\log{\\left(\\left|{X a - x}\\right| \\right)}}{\\log{\\left(X \\right)}}$"
      ],
      "text/plain": [
       "log(Abs(Chi*a - x))/log(Chi)"
      ]
     },
     "execution_count": 36,
     "metadata": {},
     "output_type": "execute_result"
    }
   ],
   "source": [
    "expr1 = (sp.ln(abs(x-a*Chi))/Chi**2) / (sp.ln(Chi)/Chi**2)\n",
    "expr1"
   ]
  },
  {
   "cell_type": "code",
   "execution_count": 37,
   "id": "a439291b",
   "metadata": {},
   "outputs": [
    {
     "data": {
      "text/latex": [
       "$\\displaystyle 1$"
      ],
      "text/plain": [
       "1"
      ]
     },
     "execution_count": 37,
     "metadata": {},
     "output_type": "execute_result"
    }
   ],
   "source": [
    "sp.limit(expr1, Chi, sp.oo)"
   ]
  },
  {
   "cell_type": "markdown",
   "id": "af913a50",
   "metadata": {},
   "source": [
    "#### 2nd expression: slide 32 "
   ]
  },
  {
   "cell_type": "code",
   "execution_count": 41,
   "id": "3d7633da",
   "metadata": {},
   "outputs": [
    {
     "data": {
      "text/latex": [
       "$\\displaystyle \\frac{\\log{\\left(X \\right)}}{X^{2}}$"
      ],
      "text/plain": [
       "log(Chi)/Chi**2"
      ]
     },
     "execution_count": 41,
     "metadata": {},
     "output_type": "execute_result"
    }
   ],
   "source": [
    "expr2 = sp.ln(Chi)/Chi**2\n",
    "expr2"
   ]
  },
  {
   "cell_type": "code",
   "execution_count": 42,
   "id": "d33db4c6",
   "metadata": {},
   "outputs": [
    {
     "data": {
      "text/latex": [
       "$\\displaystyle - \\frac{\\log{\\left(X \\right)}}{X} - \\frac{1}{X}$"
      ],
      "text/plain": [
       "-log(Chi)/Chi - 1/Chi"
      ]
     },
     "execution_count": 42,
     "metadata": {},
     "output_type": "execute_result"
    }
   ],
   "source": [
    "expr2_int = sp.integrate(expr2, Chi)\n",
    "expr2_int"
   ]
  },
  {
   "cell_type": "code",
   "execution_count": 43,
   "id": "a00ff530",
   "metadata": {},
   "outputs": [
    {
     "data": {
      "text/latex": [
       "$\\displaystyle 1$"
      ],
      "text/plain": [
       "1"
      ]
     },
     "execution_count": 43,
     "metadata": {},
     "output_type": "execute_result"
    }
   ],
   "source": [
    "sp.limit(expr2_int, Chi, sp.oo) - sp.limit(expr2_int, Chi, 1)"
   ]
  },
  {
   "cell_type": "code",
   "execution_count": 59,
   "id": "c6a91c4d",
   "metadata": {},
   "outputs": [
    {
     "data": {
      "text/latex": [
       "$\\displaystyle 1$"
      ],
      "text/plain": [
       "1"
      ]
     },
     "execution_count": 59,
     "metadata": {},
     "output_type": "execute_result"
    }
   ],
   "source": [
    "# or via\n",
    "sp.integrate(expr2, (Chi, 1, sp.oo))"
   ]
  },
  {
   "cell_type": "markdown",
   "id": "90414c16",
   "metadata": {},
   "source": [
    "#### 3rd expression: slide 32 "
   ]
  },
  {
   "cell_type": "code",
   "execution_count": 49,
   "id": "3a1d5732",
   "metadata": {},
   "outputs": [
    {
     "data": {
      "text/latex": [
       "$\\displaystyle \\frac{\\log{\\left(X \\right)}}{X}$"
      ],
      "text/plain": [
       "log(Chi)/Chi"
      ]
     },
     "execution_count": 49,
     "metadata": {},
     "output_type": "execute_result"
    }
   ],
   "source": [
    "expr3 = sp.ln(Chi)/Chi\n",
    "expr3"
   ]
  },
  {
   "cell_type": "code",
   "execution_count": 50,
   "id": "3ff6f876",
   "metadata": {},
   "outputs": [
    {
     "data": {
      "text/latex": [
       "$\\displaystyle \\frac{\\log{\\left(X \\right)}^{2}}{2}$"
      ],
      "text/plain": [
       "log(Chi)**2/2"
      ]
     },
     "execution_count": 50,
     "metadata": {},
     "output_type": "execute_result"
    }
   ],
   "source": [
    "expr3_int = sp.integrate(expr3, Chi)\n",
    "expr3_int"
   ]
  },
  {
   "cell_type": "code",
   "execution_count": 51,
   "id": "acbc6ec8",
   "metadata": {},
   "outputs": [
    {
     "data": {
      "text/latex": [
       "$\\displaystyle \\infty$"
      ],
      "text/plain": [
       "oo"
      ]
     },
     "execution_count": 51,
     "metadata": {},
     "output_type": "execute_result"
    }
   ],
   "source": [
    "sp.limit(expr3_int, Chi, sp.oo) - sp.limit(expr3_int, Chi, 1)"
   ]
  },
  {
   "cell_type": "markdown",
   "id": "c1e405bb",
   "metadata": {},
   "source": [
    "#### 4th expression: slide 35 "
   ]
  },
  {
   "cell_type": "code",
   "execution_count": 52,
   "id": "8e9343b7",
   "metadata": {},
   "outputs": [
    {
     "data": {
      "text/latex": [
       "$\\displaystyle \\log{\\left(X \\right)}$"
      ],
      "text/plain": [
       "log(Chi)"
      ]
     },
     "execution_count": 52,
     "metadata": {},
     "output_type": "execute_result"
    }
   ],
   "source": [
    "expr4 = sp.ln(Chi)\n",
    "expr4"
   ]
  },
  {
   "cell_type": "code",
   "execution_count": 55,
   "id": "3d8bfae8",
   "metadata": {},
   "outputs": [
    {
     "data": {
      "text/latex": [
       "$\\displaystyle X \\log{\\left(X \\right)} - X$"
      ],
      "text/plain": [
       "Chi*log(Chi) - Chi"
      ]
     },
     "execution_count": 55,
     "metadata": {},
     "output_type": "execute_result"
    }
   ],
   "source": [
    "expr4_int = sp.integrate(expr4, Chi)\n",
    "expr4_int"
   ]
  },
  {
   "cell_type": "code",
   "execution_count": 56,
   "id": "61c8b151",
   "metadata": {},
   "outputs": [
    {
     "data": {
      "text/latex": [
       "$\\displaystyle -1$"
      ],
      "text/plain": [
       "-1"
      ]
     },
     "execution_count": 56,
     "metadata": {},
     "output_type": "execute_result"
    }
   ],
   "source": [
    "sp.limit(expr4_int, Chi, 1) - sp.limit(expr4_int, Chi, 0)"
   ]
  },
  {
   "cell_type": "markdown",
   "id": "9c2a448b",
   "metadata": {},
   "source": [
    "#### Faster way to solve definite/ improper integrals"
   ]
  },
  {
   "cell_type": "code",
   "execution_count": 57,
   "id": "8f33f87e",
   "metadata": {},
   "outputs": [
    {
     "data": {
      "text/latex": [
       "$\\displaystyle -1$"
      ],
      "text/plain": [
       "-1"
      ]
     },
     "execution_count": 57,
     "metadata": {},
     "output_type": "execute_result"
    }
   ],
   "source": [
    "sp.integrate(expr4, (Chi, 0, 1))"
   ]
  }
 ],
 "metadata": {
  "kernelspec": {
   "display_name": "Python 3 (ipykernel)",
   "language": "python",
   "name": "python3"
  },
  "language_info": {
   "codemirror_mode": {
    "name": "ipython",
    "version": 3
   },
   "file_extension": ".py",
   "mimetype": "text/x-python",
   "name": "python",
   "nbconvert_exporter": "python",
   "pygments_lexer": "ipython3",
   "version": "3.9.7"
  }
 },
 "nbformat": 4,
 "nbformat_minor": 5
}
