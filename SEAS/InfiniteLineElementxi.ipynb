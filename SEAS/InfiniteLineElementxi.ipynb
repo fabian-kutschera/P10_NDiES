{
 "cells": [
  {
   "cell_type": "markdown",
   "id": "76835f18",
   "metadata": {},
   "source": [
    "# Find solution\n",
    "\n",
    "Assume function $f(\\theta)$\n",
    "\\begin{equation}\n",
    "\\lim_{\\theta \\to +1} f(\\theta) = \\infty\n",
    "\\end{equation}\n",
    "\n",
    "with \n",
    "\\begin{equation}\n",
    "f(-1) = a\n",
    "\\end{equation}\n",
    "\n",
    "and solution with the form\n",
    "\\begin{equation}\n",
    "f(\\theta) = a \\frac{p(\\theta)}{q(\\theta)}\n",
    "\\end{equation}\n",
    "where p and q are linear functions of $\\theta$."
   ]
  },
  {
   "cell_type": "code",
   "execution_count": 41,
   "id": "560666e8",
   "metadata": {},
   "outputs": [],
   "source": [
    "import sympy as sp"
   ]
  },
  {
   "cell_type": "code",
   "execution_count": 42,
   "id": "b881850e",
   "metadata": {},
   "outputs": [],
   "source": [
    "x, a, theta = sp.symbols(\"x a theta\")\n",
    "f, p, q = sp.symbols(\"f p q\", cls=sp.Function)"
   ]
  },
  {
   "cell_type": "code",
   "execution_count": 43,
   "id": "5ade9789",
   "metadata": {},
   "outputs": [
    {
     "data": {
      "text/latex": [
       "$\\displaystyle \\frac{2 a \\theta}{\\theta - 1}$"
      ],
      "text/plain": [
       "2*a*theta/(theta - 1)"
      ]
     },
     "execution_count": 43,
     "metadata": {},
     "output_type": "execute_result"
    }
   ],
   "source": [
    "p = 2 * theta\n",
    "q = theta - 1\n",
    "f = a * p/q\n",
    "f"
   ]
  },
  {
   "cell_type": "code",
   "execution_count": 44,
   "id": "d5fccb0b",
   "metadata": {},
   "outputs": [
    {
     "data": {
      "text/latex": [
       "$\\displaystyle a$"
      ],
      "text/plain": [
       "a"
      ]
     },
     "execution_count": 44,
     "metadata": {},
     "output_type": "execute_result"
    }
   ],
   "source": [
    "f.subs(theta, -1)"
   ]
  },
  {
   "cell_type": "code",
   "execution_count": 45,
   "id": "199e232b",
   "metadata": {},
   "outputs": [
    {
     "data": {
      "text/latex": [
       "$\\displaystyle - \\infty \\operatorname{sign}{\\left(a \\right)}$"
      ],
      "text/plain": [
       "-oo*sign(a)"
      ]
     },
     "execution_count": 45,
     "metadata": {},
     "output_type": "execute_result"
    }
   ],
   "source": [
    "sp.limit(f, theta, 1)#, dir=\"+\")\n",
    "sp.limit(f, theta, 1, dir=\"-\")"
   ]
  },
  {
   "cell_type": "code",
   "execution_count": 46,
   "id": "f3b7ff45",
   "metadata": {},
   "outputs": [
    {
     "data": {
      "image/png": "[encoded data removed]",
      "text/plain": [
       "<Figure size 432x288 with 1 Axes>"
      ]
     },
     "metadata": {
      "needs_background": "light"
     },
     "output_type": "display_data"
    },
    {
     "data": {
      "text/plain": [
       "<sympy.plotting.plot.Plot at 0x1d3ca7076a0>"
      ]
     },
     "execution_count": 46,
     "metadata": {},
     "output_type": "execute_result"
    }
   ],
   "source": [
    "fa1 = f.subs(a, 1)\n",
    "fa1\n",
    "sp.plot(fa1, xlim=[-10,10], ylim=[-30,30])"
   ]
  },
  {
   "cell_type": "markdown",
   "id": "20c7f678",
   "metadata": {},
   "source": [
    "*Be aware that the solution above is wrong!*"
   ]
  },
  {
   "cell_type": "markdown",
   "id": "0f52a0f3",
   "metadata": {},
   "source": [
    "#### Alternative I\n",
    "\n",
    "If $p(\\theta)$ can be constant:"
   ]
  },
  {
   "cell_type": "code",
   "execution_count": 47,
   "id": "3f0d8f5b",
   "metadata": {},
   "outputs": [
    {
     "name": "stdout",
     "output_type": "stream",
     "text": [
      "-2*a/(theta - 1)\n",
      "a\n",
      "oo*sign(a)\n"
     ]
    }
   ],
   "source": [
    "p2 = -2\n",
    "q2 = theta - 1\n",
    "f2 = a * p2/q2\n",
    "print(f2)\n",
    "\n",
    "print(f2.subs(theta, -1))\n",
    "\n",
    "print(sp.limit(f2, theta, 1, dir=\"-\"))"
   ]
  },
  {
   "cell_type": "code",
   "execution_count": 48,
   "id": "24a19926",
   "metadata": {},
   "outputs": [
    {
     "data": {
      "image/png": "[encoded data removed]",
      "text/plain": [
       "<Figure size 432x288 with 1 Axes>"
      ]
     },
     "metadata": {
      "needs_background": "light"
     },
     "output_type": "display_data"
    },
    {
     "data": {
      "text/plain": [
       "<sympy.plotting.plot.Plot at 0x1d3cb74de50>"
      ]
     },
     "execution_count": 48,
     "metadata": {},
     "output_type": "execute_result"
    }
   ],
   "source": [
    "fa2 = f2.subs(a, 1)\n",
    "fa2\n",
    "sp.plot(fa2, xlim=[-10,10], ylim=[-30,30])"
   ]
  },
  {
   "cell_type": "markdown",
   "id": "fa5b951c",
   "metadata": {},
   "source": [
    "#### Alternative II\n",
    "\n",
    "If $p(\\theta)$ is linear function:"
   ]
  },
  {
   "cell_type": "code",
   "execution_count": 49,
   "id": "968590c6",
   "metadata": {},
   "outputs": [
    {
     "data": {
      "text/latex": [
       "$\\displaystyle \\frac{2 a \\left(\\theta + 2\\right)}{1 - \\theta}$"
      ],
      "text/plain": [
       "2*a*(theta + 2)/(1 - theta)"
      ]
     },
     "execution_count": 49,
     "metadata": {},
     "output_type": "execute_result"
    }
   ],
   "source": [
    "f3 = 2*a*(2 + theta)/(1 - theta)\n",
    "f3"
   ]
  },
  {
   "cell_type": "code",
   "execution_count": 50,
   "id": "c92bd8db",
   "metadata": {},
   "outputs": [
    {
     "data": {
      "text/latex": [
       "$\\displaystyle a$"
      ],
      "text/plain": [
       "a"
      ]
     },
     "execution_count": 50,
     "metadata": {},
     "output_type": "execute_result"
    }
   ],
   "source": [
    "f3.subs(theta, -1)"
   ]
  },
  {
   "cell_type": "code",
   "execution_count": 51,
   "id": "6cfd4a41",
   "metadata": {},
   "outputs": [
    {
     "data": {
      "text/latex": [
       "$\\displaystyle \\infty \\operatorname{sign}{\\left(a \\right)}$"
      ],
      "text/plain": [
       "oo*sign(a)"
      ]
     },
     "execution_count": 51,
     "metadata": {},
     "output_type": "execute_result"
    }
   ],
   "source": [
    "sp.limit(f3, theta, 1, dir='-')"
   ]
  },
  {
   "cell_type": "code",
   "execution_count": 52,
   "id": "7425d43c",
   "metadata": {},
   "outputs": [
    {
     "data": {
      "image/png": "[encoded data removed]",
      "text/plain": [
       "<Figure size 432x288 with 1 Axes>"
      ]
     },
     "metadata": {
      "needs_background": "light"
     },
     "output_type": "display_data"
    },
    {
     "data": {
      "text/plain": [
       "<sympy.plotting.plot.Plot at 0x1d3cb935760>"
      ]
     },
     "execution_count": 52,
     "metadata": {},
     "output_type": "execute_result"
    }
   ],
   "source": [
    "fa3 = f3.subs(a, 1)\n",
    "sp.plot(fa3, xlim=[-10,10], ylim=[-30,30])"
   ]
  },
  {
   "cell_type": "markdown",
   "id": "8536c326",
   "metadata": {},
   "source": [
    "#### Actual solution for $\\chi$"
   ]
  },
  {
   "cell_type": "code",
   "execution_count": 53,
   "id": "4633e6a8",
   "metadata": {},
   "outputs": [
    {
     "data": {
      "text/latex": [
       "$\\displaystyle \\frac{a \\left(\\theta + 3\\right)}{1 - \\theta}$"
      ],
      "text/plain": [
       "a*(theta + 3)/(1 - theta)"
      ]
     },
     "execution_count": 53,
     "metadata": {},
     "output_type": "execute_result"
    }
   ],
   "source": [
    "p = theta + 3\n",
    "q = 1 - theta\n",
    "f4 = a* p/q\n",
    "f4"
   ]
  },
  {
   "cell_type": "code",
   "execution_count": 54,
   "id": "788ed08d",
   "metadata": {},
   "outputs": [
    {
     "data": {
      "text/latex": [
       "$\\displaystyle a$"
      ],
      "text/plain": [
       "a"
      ]
     },
     "execution_count": 54,
     "metadata": {},
     "output_type": "execute_result"
    }
   ],
   "source": [
    "f4.subs(theta, -1)"
   ]
  },
  {
   "cell_type": "code",
   "execution_count": 55,
   "id": "5ccd94d1",
   "metadata": {},
   "outputs": [
    {
     "data": {
      "text/latex": [
       "$\\displaystyle \\infty \\operatorname{sign}{\\left(a \\right)}$"
      ],
      "text/plain": [
       "oo*sign(a)"
      ]
     },
     "execution_count": 55,
     "metadata": {},
     "output_type": "execute_result"
    }
   ],
   "source": [
    "sp.limit(f4, theta, 1, dir=\"-\")"
   ]
  },
  {
   "cell_type": "code",
   "execution_count": 56,
   "id": "14b9c410",
   "metadata": {},
   "outputs": [
    {
     "data": {
      "image/png": "[encoded data removed]",
      "text/plain": [
       "<Figure size 432x288 with 1 Axes>"
      ]
     },
     "metadata": {
      "needs_background": "light"
     },
     "output_type": "display_data"
    },
    {
     "data": {
      "text/plain": [
       "<sympy.plotting.plot.Plot at 0x1d3cb9961f0>"
      ]
     },
     "execution_count": 56,
     "metadata": {},
     "output_type": "execute_result"
    }
   ],
   "source": [
    "fa4 = f4.subs(a, 1)\n",
    "fa4\n",
    "sp.plot(fa4, xlim=[-10,10], ylim=[-30,30])"
   ]
  },
  {
   "cell_type": "markdown",
   "id": "8abec06a",
   "metadata": {},
   "source": [
    "#### Solution for basis\n",
    "\n",
    "The basis function is given by:\n",
    "$\\frac{|a|^2}{|\\xi|^2}$"
   ]
  },
  {
   "cell_type": "code",
   "execution_count": 57,
   "id": "39514999",
   "metadata": {},
   "outputs": [
    {
     "data": {
      "text/latex": [
       "$\\displaystyle \\frac{a \\left(\\theta + 3\\right)}{1 - \\theta}$"
      ],
      "text/plain": [
       "a*(theta + 3)/(1 - theta)"
      ]
     },
     "execution_count": 57,
     "metadata": {},
     "output_type": "execute_result"
    }
   ],
   "source": [
    "f4"
   ]
  },
  {
   "cell_type": "code",
   "execution_count": 61,
   "id": "8031352e",
   "metadata": {},
   "outputs": [
    {
     "data": {
      "text/latex": [
       "$\\displaystyle \\frac{\\left(1 - \\theta\\right)^{2}}{\\left(\\theta + 3\\right)^{2}}$"
      ],
      "text/plain": [
       "(1 - theta)**2/(theta + 3)**2"
      ]
     },
     "execution_count": 61,
     "metadata": {},
     "output_type": "execute_result"
    }
   ],
   "source": [
    "bas = a**2 / f4**2\n",
    "bas"
   ]
  },
  {
   "cell_type": "markdown",
   "id": "75783c79",
   "metadata": {},
   "source": [
    "#### Approach for factor\n",
    "\n",
    "Find derivative of $\\xi(\\theta)$.\n",
    "\n",
    "--> = f(theta)."
   ]
  },
  {
   "cell_type": "code",
   "execution_count": 58,
   "id": "383cec3b",
   "metadata": {},
   "outputs": [
    {
     "data": {
      "text/latex": [
       "$\\displaystyle \\frac{\\theta + 3}{1 - \\theta}$"
      ],
      "text/plain": [
       "(theta + 3)/(1 - theta)"
      ]
     },
     "execution_count": 58,
     "metadata": {},
     "output_type": "execute_result"
    }
   ],
   "source": [
    "fa4"
   ]
  },
  {
   "cell_type": "code",
   "execution_count": 59,
   "id": "a4fcb22c",
   "metadata": {},
   "outputs": [
    {
     "data": {
      "text/latex": [
       "$\\displaystyle \\frac{1}{1 - \\theta} + \\frac{\\theta + 3}{\\left(1 - \\theta\\right)^{2}}$"
      ],
      "text/plain": [
       "1/(1 - theta) + (theta + 3)/(1 - theta)**2"
      ]
     },
     "execution_count": 59,
     "metadata": {},
     "output_type": "execute_result"
    }
   ],
   "source": [
    "sp.diff(fa4, theta)"
   ]
  },
  {
   "cell_type": "code",
   "execution_count": 60,
   "id": "89f7162a",
   "metadata": {},
   "outputs": [
    {
     "data": {
      "text/latex": [
       "$\\displaystyle \\frac{4}{\\left(\\theta - 1\\right)^{2}}$"
      ],
      "text/plain": [
       "4/(theta - 1)**2"
      ]
     },
     "execution_count": 60,
     "metadata": {},
     "output_type": "execute_result"
    }
   ],
   "source": [
    "sp.diff(fa4, theta).simplify()"
   ]
  }
 ],
 "metadata": {
  "kernelspec": {
   "display_name": "Python 3 (ipykernel)",
   "language": "python",
   "name": "python3"
  },
  "language_info": {
   "codemirror_mode": {
    "name": "ipython",
    "version": 3
   },
   "file_extension": ".py",
   "mimetype": "text/x-python",
   "name": "python",
   "nbconvert_exporter": "python",
   "pygments_lexer": "ipython3",
   "version": "3.9.7"
  }
 },
 "nbformat": 4,
 "nbformat_minor": 5
}
