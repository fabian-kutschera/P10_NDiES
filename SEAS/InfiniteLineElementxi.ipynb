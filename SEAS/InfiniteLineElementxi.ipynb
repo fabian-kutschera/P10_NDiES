{
 "cells": [
  {
   "cell_type": "markdown",
   "id": "76835f18",
   "metadata": {},
   "source": [
    "# Find solution\n",
    "\n",
    "Assume function $f(\\theta)$\n",
    "\\begin{equation}\n",
    "\\lim_{\\theta \\to +1} f(\\theta) = \\infty\n",
    "\\end{equation}\n",
    "\n",
    "with \n",
    "\\begin{equation}\n",
    "f(-1) = a\n",
    "\\end{equation}\n",
    "\n",
    "and solution with the form\n",
    "\\begin{equation}\n",
    "f(\\theta) = a \\frac{p(\\theta)}{q(\\theta)}\n",
    "\\end{equation}\n",
    "where p and q are linear functions of $\\theta$."
   ]
  },
  {
   "cell_type": "code",
   "execution_count": 89,
   "id": "560666e8",
   "metadata": {},
   "outputs": [],
   "source": [
    "import sympy as sp"
   ]
  },
  {
   "cell_type": "code",
   "execution_count": 90,
   "id": "b881850e",
   "metadata": {},
   "outputs": [],
   "source": [
    "x, a, theta = sp.symbols(\"x a theta\")\n",
    "f, p, q = sp.symbols(\"f p q\", cls=sp.Function)"
   ]
  },
  {
   "cell_type": "code",
   "execution_count": 91,
   "id": "5ade9789",
   "metadata": {},
   "outputs": [
    {
     "data": {
      "text/latex": [
       "$\\displaystyle \\frac{2 a \\theta}{\\theta - 1}$"
      ],
      "text/plain": [
       "2*a*theta/(theta - 1)"
      ]
     },
     "execution_count": 91,
     "metadata": {},
     "output_type": "execute_result"
    }
   ],
   "source": [
    "p = 2 * theta\n",
    "q = theta - 1\n",
    "f = a * p/q\n",
    "f"
   ]
  },
  {
   "cell_type": "code",
   "execution_count": 92,
   "id": "d5fccb0b",
   "metadata": {},
   "outputs": [
    {
     "data": {
      "text/latex": [
       "$\\displaystyle a$"
      ],
      "text/plain": [
       "a"
      ]
     },
     "execution_count": 92,
     "metadata": {},
     "output_type": "execute_result"
    }
   ],
   "source": [
    "f.subs(theta, -1)"
   ]
  },
  {
   "cell_type": "code",
   "execution_count": 93,
   "id": "199e232b",
   "metadata": {},
   "outputs": [
    {
     "data": {
      "text/latex": [
       "$\\displaystyle - \\infty \\operatorname{sign}{\\left(a \\right)}$"
      ],
      "text/plain": [
       "-oo*sign(a)"
      ]
     },
     "execution_count": 93,
     "metadata": {},
     "output_type": "execute_result"
    }
   ],
   "source": [
    "sp.limit(f, theta, 1)#, dir=\"+\")\n",
    "sp.limit(f, theta, 1, dir=\"-\")"
   ]
  },
  {
   "cell_type": "code",
   "execution_count": 94,
   "id": "f3b7ff45",
   "metadata": {},
   "outputs": [
    {
     "data": {
      "image/png": "[encoded data removed]",
      "text/plain": [
       "<Figure size 432x288 with 1 Axes>"
      ]
     },
     "metadata": {
      "needs_background": "light"
     },
     "output_type": "display_data"
    },
    {
     "data": {
      "text/plain": [
       "<sympy.plotting.plot.Plot at 0x1a7758f7310>"
      ]
     },
     "execution_count": 94,
     "metadata": {},
     "output_type": "execute_result"
    }
   ],
   "source": [
    "fa1 = f.subs(a, 1)\n",
    "fa1\n",
    "sp.plot(fa1, xlim=[-10,10], ylim=[-30,30])"
   ]
  },
  {
   "cell_type": "markdown",
   "id": "20c7f678",
   "metadata": {},
   "source": [
    "*Be aware that the solution above is wrong!*"
   ]
  },
  {
   "cell_type": "markdown",
   "id": "0f52a0f3",
   "metadata": {},
   "source": [
    "#### Alternative I\n",
    "\n",
    "If $p(\\theta)$ can be constant:"
   ]
  },
  {
   "cell_type": "code",
   "execution_count": 95,
   "id": "3f0d8f5b",
   "metadata": {},
   "outputs": [
    {
     "name": "stdout",
     "output_type": "stream",
     "text": [
      "-2*a/(theta - 1)\n",
      "a\n",
      "oo*sign(a)\n"
     ]
    }
   ],
   "source": [
    "p2 = -2\n",
    "q2 = theta - 1\n",
    "f2 = a * p2/q2\n",
    "print(f2)\n",
    "\n",
    "print(f2.subs(theta, -1))\n",
    "\n",
    "print(sp.limit(f2, theta, 1, dir=\"-\"))"
   ]
  },
  {
   "cell_type": "code",
   "execution_count": 96,
   "id": "24a19926",
   "metadata": {},
   "outputs": [
    {
     "data": {
      "image/png": "[encoded data removed]",
      "text/plain": [
       "<Figure size 432x288 with 1 Axes>"
      ]
     },
     "metadata": {
      "needs_background": "light"
     },
     "output_type": "display_data"
    },
    {
     "data": {
      "text/plain": [
       "<sympy.plotting.plot.Plot at 0x1a775943640>"
      ]
     },
     "execution_count": 96,
     "metadata": {},
     "output_type": "execute_result"
    }
   ],
   "source": [
    "fa2 = f2.subs(a, 1)\n",
    "fa2\n",
    "sp.plot(fa2, xlim=[-10,10], ylim=[-30,30])"
   ]
  },
  {
   "cell_type": "markdown",
   "id": "fa5b951c",
   "metadata": {},
   "source": [
    "#### Alternative II\n",
    "\n",
    "If $p(\\theta)$ is linear function:"
   ]
  },
  {
   "cell_type": "code",
   "execution_count": 97,
   "id": "968590c6",
   "metadata": {},
   "outputs": [
    {
     "data": {
      "text/latex": [
       "$\\displaystyle \\frac{2 a \\left(\\theta + 2\\right)}{1 - \\theta}$"
      ],
      "text/plain": [
       "2*a*(theta + 2)/(1 - theta)"
      ]
     },
     "execution_count": 97,
     "metadata": {},
     "output_type": "execute_result"
    }
   ],
   "source": [
    "f3 = 2*a*(2 + theta)/(1 - theta)\n",
    "f3"
   ]
  },
  {
   "cell_type": "code",
   "execution_count": 98,
   "id": "c92bd8db",
   "metadata": {},
   "outputs": [
    {
     "data": {
      "text/latex": [
       "$\\displaystyle a$"
      ],
      "text/plain": [
       "a"
      ]
     },
     "execution_count": 98,
     "metadata": {},
     "output_type": "execute_result"
    }
   ],
   "source": [
    "f3.subs(theta, -1)"
   ]
  },
  {
   "cell_type": "code",
   "execution_count": 99,
   "id": "6cfd4a41",
   "metadata": {},
   "outputs": [
    {
     "data": {
      "text/latex": [
       "$\\displaystyle \\infty \\operatorname{sign}{\\left(a \\right)}$"
      ],
      "text/plain": [
       "oo*sign(a)"
      ]
     },
     "execution_count": 99,
     "metadata": {},
     "output_type": "execute_result"
    }
   ],
   "source": [
    "sp.limit(f3, theta, 1, dir='-')"
   ]
  },
  {
   "cell_type": "code",
   "execution_count": 100,
   "id": "7425d43c",
   "metadata": {},
   "outputs": [
    {
     "data": {
      "image/png": "[encoded data removed]",
      "text/plain": [
       "<Figure size 432x288 with 1 Axes>"
      ]
     },
     "metadata": {
      "needs_background": "light"
     },
     "output_type": "display_data"
    },
    {
     "data": {
      "text/plain": [
       "<sympy.plotting.plot.Plot at 0x1a775989a30>"
      ]
     },
     "execution_count": 100,
     "metadata": {},
     "output_type": "execute_result"
    }
   ],
   "source": [
    "f3 = f3.subs(a, 1)\n",
    "sp.plot(f3, xlim=[-10,10], ylim=[-30,30])"
   ]
  },
  {
   "cell_type": "markdown",
   "id": "8536c326",
   "metadata": {},
   "source": [
    "#### Actual solution"
   ]
  },
  {
   "cell_type": "code",
   "execution_count": 101,
   "id": "4633e6a8",
   "metadata": {},
   "outputs": [
    {
     "data": {
      "text/latex": [
       "$\\displaystyle \\frac{a \\left(\\theta + 3\\right)}{1 - \\theta}$"
      ],
      "text/plain": [
       "a*(theta + 3)/(1 - theta)"
      ]
     },
     "execution_count": 101,
     "metadata": {},
     "output_type": "execute_result"
    }
   ],
   "source": [
    "p = theta + 3\n",
    "q = 1 - theta\n",
    "f = a* p/q\n",
    "f"
   ]
  },
  {
   "cell_type": "code",
   "execution_count": 102,
   "id": "788ed08d",
   "metadata": {},
   "outputs": [
    {
     "data": {
      "text/latex": [
       "$\\displaystyle a$"
      ],
      "text/plain": [
       "a"
      ]
     },
     "execution_count": 102,
     "metadata": {},
     "output_type": "execute_result"
    }
   ],
   "source": [
    "f.subs(theta, -1)"
   ]
  },
  {
   "cell_type": "code",
   "execution_count": 103,
   "id": "5ccd94d1",
   "metadata": {},
   "outputs": [
    {
     "data": {
      "text/latex": [
       "$\\displaystyle \\infty \\operatorname{sign}{\\left(a \\right)}$"
      ],
      "text/plain": [
       "oo*sign(a)"
      ]
     },
     "execution_count": 103,
     "metadata": {},
     "output_type": "execute_result"
    }
   ],
   "source": [
    "sp.limit(f, theta, 1, dir=\"-\")"
   ]
  },
  {
   "cell_type": "code",
   "execution_count": 104,
   "id": "14b9c410",
   "metadata": {},
   "outputs": [
    {
     "data": {
      "image/png": "[encoded data removed]",
      "text/plain": [
       "<Figure size 432x288 with 1 Axes>"
      ]
     },
     "metadata": {
      "needs_background": "light"
     },
     "output_type": "display_data"
    },
    {
     "data": {
      "text/plain": [
       "<sympy.plotting.plot.Plot at 0x1a775a3c220>"
      ]
     },
     "execution_count": 104,
     "metadata": {},
     "output_type": "execute_result"
    }
   ],
   "source": [
    "f = f.subs(a, 1)\n",
    "f\n",
    "sp.plot(f, xlim=[-10,10], ylim=[-30,30])"
   ]
  }
 ],
 "metadata": {
  "kernelspec": {
   "display_name": "Python 3 (ipykernel)",
   "language": "python",
   "name": "python3"
  },
  "language_info": {
   "codemirror_mode": {
    "name": "ipython",
    "version": 3
   },
   "file_extension": ".py",
   "mimetype": "text/x-python",
   "name": "python",
   "nbconvert_exporter": "python",
   "pygments_lexer": "ipython3",
   "version": "3.9.7"
  }
 },
 "nbformat": 4,
 "nbformat_minor": 5
}
