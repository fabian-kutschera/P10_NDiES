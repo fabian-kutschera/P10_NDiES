{
 "cells": [
  {
   "cell_type": "markdown",
   "id": "76835f18",
   "metadata": {},
   "source": [
    "# Find solution\n",
    "\n",
    "Assume function $f(\\theta)$\n",
    "\\begin{equation}\n",
    "\\lim_{\\theta \\to +1} f(\\theta) = \\infty\n",
    "\\end{equation}\n",
    "\n",
    "with \n",
    "\\begin{equation}\n",
    "f(-1) = a\n",
    "\\end{equation}\n",
    "\n",
    "and solution with the form\n",
    "\\begin{equation}\n",
    "f(\\theta) = a \\frac{p(\\theta)}{q(\\theta)}\n",
    "\\end{equation}\n",
    "where p and q are linear functions of $\\theta$."
   ]
  },
  {
   "cell_type": "code",
   "execution_count": 1,
   "id": "560666e8",
   "metadata": {},
   "outputs": [],
   "source": [
    "import sympy as sp"
   ]
  },
  {
   "cell_type": "code",
   "execution_count": 2,
   "id": "b881850e",
   "metadata": {},
   "outputs": [],
   "source": [
    "x, a, theta = sp.symbols(\"x a theta\")\n",
    "f, p, q = sp.symbols(\"f p q\", cls=sp.Function)"
   ]
  },
  {
   "cell_type": "code",
   "execution_count": 3,
   "id": "5ade9789",
   "metadata": {},
   "outputs": [
    {
     "data": {
      "text/latex": [
       "$\\displaystyle \\frac{2 a \\theta}{\\theta - 1}$"
      ],
      "text/plain": [
       "2*a*theta/(theta - 1)"
      ]
     },
     "execution_count": 3,
     "metadata": {},
     "output_type": "execute_result"
    }
   ],
   "source": [
    "p = 2 * theta\n",
    "q = theta - 1\n",
    "f = a * p/q\n",
    "f"
   ]
  },
  {
   "cell_type": "code",
   "execution_count": 4,
   "id": "d5fccb0b",
   "metadata": {},
   "outputs": [
    {
     "data": {
      "text/latex": [
       "$\\displaystyle a$"
      ],
      "text/plain": [
       "a"
      ]
     },
     "execution_count": 4,
     "metadata": {},
     "output_type": "execute_result"
    }
   ],
   "source": [
    "f.subs(theta, -1)"
   ]
  },
  {
   "cell_type": "code",
   "execution_count": 5,
   "id": "199e232b",
   "metadata": {},
   "outputs": [
    {
     "data": {
      "text/latex": [
       "$\\displaystyle - \\infty \\operatorname{sign}{\\left(a \\right)}$"
      ],
      "text/plain": [
       "-oo*sign(a)"
      ]
     },
     "execution_count": 5,
     "metadata": {},
     "output_type": "execute_result"
    }
   ],
   "source": [
    "sp.limit(f, theta, 1)#, dir=\"+\")\n",
    "sp.limit(f, theta, 1, dir=\"-\")"
   ]
  },
  {
   "cell_type": "code",
   "execution_count": 6,
   "id": "f3b7ff45",
   "metadata": {},
   "outputs": [
    {
     "data": {
      "image/png": "[encoded data removed]",
      "text/plain": [
       "<Figure size 432x288 with 1 Axes>"
      ]
     },
     "metadata": {
      "needs_background": "light"
     },
     "output_type": "display_data"
    },
    {
     "data": {
      "text/plain": [
       "<sympy.plotting.plot.Plot at 0x1cc3d917eb0>"
      ]
     },
     "execution_count": 6,
     "metadata": {},
     "output_type": "execute_result"
    }
   ],
   "source": [
    "fa1 = f.subs(a, 1)\n",
    "fa1\n",
    "sp.plot(fa1, ylim=[-30,30])"
   ]
  },
  {
   "cell_type": "markdown",
   "id": "0f52a0f3",
   "metadata": {},
   "source": [
    "#### Alternative\n",
    "\n",
    "If $p(\\theta)$ can be constant:"
   ]
  },
  {
   "cell_type": "code",
   "execution_count": 7,
   "id": "3f0d8f5b",
   "metadata": {},
   "outputs": [
    {
     "name": "stdout",
     "output_type": "stream",
     "text": [
      "-2*a/(theta - 1)\n",
      "a\n",
      "oo*sign(a)\n"
     ]
    }
   ],
   "source": [
    "p2 = -2\n",
    "q2 = theta - 1\n",
    "f2 = a * p2/q2\n",
    "print(f2)\n",
    "\n",
    "print(f2.subs(theta, -1))\n",
    "\n",
    "print(sp.limit(f2, theta, 1, dir=\"-\"))"
   ]
  },
  {
   "cell_type": "code",
   "execution_count": 8,
   "id": "24a19926",
   "metadata": {},
   "outputs": [
    {
     "data": {
      "image/png": "[encoded data removed]",
      "text/plain": [
       "<Figure size 432x288 with 1 Axes>"
      ]
     },
     "metadata": {
      "needs_background": "light"
     },
     "output_type": "display_data"
    },
    {
     "data": {
      "text/plain": [
       "<sympy.plotting.plot.Plot at 0x1cc3ea087f0>"
      ]
     },
     "execution_count": 8,
     "metadata": {},
     "output_type": "execute_result"
    }
   ],
   "source": [
    "fa2 = f2.subs(a, 1)\n",
    "fa2\n",
    "sp.plot(fa2, ylim=[-30,30])"
   ]
  }
 ],
 "metadata": {
  "kernelspec": {
   "display_name": "Python 3 (ipykernel)",
   "language": "python",
   "name": "python3"
  },
  "language_info": {
   "codemirror_mode": {
    "name": "ipython",
    "version": 3
   },
   "file_extension": ".py",
   "mimetype": "text/x-python",
   "name": "python",
   "nbconvert_exporter": "python",
   "pygments_lexer": "ipython3",
   "version": "3.9.7"
  }
 },
 "nbformat": 4,
 "nbformat_minor": 5
}
