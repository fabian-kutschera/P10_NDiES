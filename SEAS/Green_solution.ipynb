{
 "cells": [
  {
   "cell_type": "markdown",
   "id": "6b99ac4a",
   "metadata": {},
   "source": [
    "# Green's function for half-space\n",
    "\n",
    "Find a solution to the problem\n",
    "\n",
    "$$\n",
    "    \\begin{aligned}\n",
    "        \\nabla_{\\xi}^2 G(x, \\xi) = - \\delta(x - \\xi), & \\quad \\text{ if } \\xi_2 < 0, \\\\\n",
    "        \\frac{\\partial G(x, \\xi)}{\\partial n} = 0, & \\quad \\text{ if }  \\xi_2 = 0.\n",
    "    \\end{aligned}\n",
    "$$\n",
    "\n",
    "You may use that the fundamental solution to\n",
    "$$\n",
    "    \\nabla_{\\xi}^2 E(x, \\xi) = - \\delta(x - \\xi), \\\\\n",
    "$$\n",
    "is given by\n",
    "$$\n",
    "    E(x, \\xi) = -\\frac{1}{2\\pi} \\ln(|x-\\xi|).\n",
    "$$\n",
    "\n",
    "Hint: Can you somehow \"reflect\" E at the free surface?"
   ]
  },
  {
   "cell_type": "code",
   "execution_count": 1,
   "id": "8e577649",
   "metadata": {},
   "outputs": [],
   "source": [
    "from sympy import *"
   ]
  },
  {
   "cell_type": "code",
   "execution_count": 2,
   "id": "a0f50b6e",
   "metadata": {},
   "outputs": [
    {
     "data": {
      "text/latex": [
       "$\\displaystyle - \\frac{\\log{\\left(\\sqrt{\\left(x_{1} - \\xi_{1}\\right)^{2} + \\left(x_{2} - \\xi_{2}\\right)^{2}} \\right)}}{2 \\pi}$"
      ],
      "text/plain": [
       "-log(sqrt((x_1 - xi_1)**2 + (x_2 - xi_2)**2))/(2*pi)"
      ]
     },
     "execution_count": 2,
     "metadata": {},
     "output_type": "execute_result"
    }
   ],
   "source": [
    "x1, x2, xi1, xi2, n1, n2 = symbols('x_1 x_2 xi_1 xi_2 n_1 n_2')\n",
    "E = -1/(2*pi) * log(sqrt((x1-xi1)**2 + (x2-xi2)**2))\n",
    "E"
   ]
  },
  {
   "cell_type": "code",
   "execution_count": 3,
   "id": "0bae00a5",
   "metadata": {},
   "outputs": [
    {
     "data": {
      "text/latex": [
       "$\\displaystyle \\frac{n_{1} \\left(x_{1} - \\xi_{1}\\right) + n_{2} \\left(x_{2} - \\xi_{2}\\right)}{2 \\pi \\left(\\left(x_{1} - \\xi_{1}\\right)^{2} + \\left(x_{2} - \\xi_{2}\\right)^{2}\\right)}$"
      ],
      "text/plain": [
       "(n_1*(x_1 - xi_1) + n_2*(x_2 - xi_2))/(2*pi*((x_1 - xi_1)**2 + (x_2 - xi_2)**2))"
      ]
     },
     "execution_count": 3,
     "metadata": {},
     "output_type": "execute_result"
    }
   ],
   "source": [
    "dEdn = (E.diff(xi1)*n1 + E.diff(xi2)*n2).simplify()\n",
    "dEdn"
   ]
  },
  {
   "cell_type": "code",
   "execution_count": 4,
   "id": "e1ae33bc",
   "metadata": {},
   "outputs": [
    {
     "data": {
      "text/latex": [
       "$\\displaystyle 0$"
      ],
      "text/plain": [
       "0"
      ]
     },
     "execution_count": 4,
     "metadata": {},
     "output_type": "execute_result"
    }
   ],
   "source": [
    "dEdn.subs(n1, 0).subs(n2, 1).subs(xi2, 0) + dEdn.subs(n1, 0).subs(n2, 1).subs(xi2, 0).subs(x2, -x2)"
   ]
  },
  {
   "cell_type": "code",
   "execution_count": 5,
   "id": "73e9ef5c",
   "metadata": {},
   "outputs": [],
   "source": [
    "G = E + E.subs(x2, -x2)"
   ]
  },
  {
   "cell_type": "code",
   "execution_count": 6,
   "id": "b86ec4dc",
   "metadata": {
    "scrolled": true
   },
   "outputs": [
    {
     "data": {
      "text/latex": [
       "$\\displaystyle - \\frac{\\log{\\left(\\sqrt{\\left(x_{1} - \\xi_{1}\\right)^{2} + \\left(- x_{2} - \\xi_{2}\\right)^{2}} \\right)}}{2 \\pi} - \\frac{\\log{\\left(\\sqrt{\\left(x_{1} - \\xi_{1}\\right)^{2} + \\left(x_{2} - \\xi_{2}\\right)^{2}} \\right)}}{2 \\pi}$"
      ],
      "text/plain": [
       "-log(sqrt((x_1 - xi_1)**2 + (-x_2 - xi_2)**2))/(2*pi) - log(sqrt((x_1 - xi_1)**2 + (x_2 - xi_2)**2))/(2*pi)"
      ]
     },
     "execution_count": 6,
     "metadata": {},
     "output_type": "execute_result"
    }
   ],
   "source": [
    "G"
   ]
  },
  {
   "cell_type": "markdown",
   "id": "d6783d75",
   "metadata": {},
   "source": [
    "$(\\bar{x}_1, \\bar{x_2}) = (x_1, -x_2)$"
   ]
  },
  {
   "cell_type": "markdown",
   "id": "6a01ccf0",
   "metadata": {},
   "source": [
    "$\\nabla^2G = \\nabla^2 (E(x) + E(\\bar{x})) = -\\delta(|x-\\xi|) - \\delta(|\\bar{x}-\\xi|)$"
   ]
  },
  {
   "cell_type": "markdown",
   "id": "7883b387",
   "metadata": {},
   "source": [
    "# Other Green's function \n",
    "\n",
    "$G(x, \\xi) = 0$ if $\\xi_2 = 0$"
   ]
  },
  {
   "cell_type": "code",
   "execution_count": 7,
   "id": "04d30cb7",
   "metadata": {},
   "outputs": [
    {
     "data": {
      "text/latex": [
       "$\\displaystyle - \\frac{\\log{\\left(\\sqrt{x_{2}^{2} + \\left(x_{1} - \\xi_{1}\\right)^{2}} \\right)}}{2 \\pi}$"
      ],
      "text/plain": [
       "-log(sqrt(x_2**2 + (x_1 - xi_1)**2))/(2*pi)"
      ]
     },
     "execution_count": 7,
     "metadata": {},
     "output_type": "execute_result"
    }
   ],
   "source": [
    "E.subs(n1, 0).subs(n2, 1).subs(xi2, 0)"
   ]
  },
  {
   "cell_type": "code",
   "execution_count": 8,
   "id": "f2c891c5",
   "metadata": {},
   "outputs": [
    {
     "data": {
      "text/latex": [
       "$\\displaystyle 0$"
      ],
      "text/plain": [
       "0"
      ]
     },
     "execution_count": 8,
     "metadata": {},
     "output_type": "execute_result"
    }
   ],
   "source": [
    "E.subs(n1, 0).subs(n2, 1).subs(xi2, 0) - E.subs(n1, 0).subs(n2, 1).subs(xi2, 0).subs(x2, -x2)"
   ]
  }
 ],
 "metadata": {
  "kernelspec": {
   "display_name": "Python 3 (ipykernel)",
   "language": "python",
   "name": "python3"
  },
  "language_info": {
   "codemirror_mode": {
    "name": "ipython",
    "version": 3
   },
   "file_extension": ".py",
   "mimetype": "text/x-python",
   "name": "python",
   "nbconvert_exporter": "python",
   "pygments_lexer": "ipython3",
   "version": "3.9.7"
  }
 },
 "nbformat": 4,
 "nbformat_minor": 5
}
